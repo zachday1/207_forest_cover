{
 "cells": [
  {
   "cell_type": "code",
   "execution_count": 92,
   "metadata": {
    "collapsed": true
   },
   "outputs": [],
   "source": [
    "import matplotlib.pyplot as plt\n",
    "import numpy as np\n",
    "import pandas as pd\n",
    "\n",
    "%matplotlib inline"
   ]
  },
  {
   "cell_type": "markdown",
   "metadata": {},
   "source": [
    "# 1. Read Data"
   ]
  },
  {
   "cell_type": "code",
   "execution_count": 93,
   "metadata": {},
   "outputs": [
    {
     "data": {
      "text/plain": [
       "(15120, 56)"
      ]
     },
     "execution_count": 93,
     "metadata": {},
     "output_type": "execute_result"
    }
   ],
   "source": [
    "df_train = pd.read_csv('train.csv')\n",
    "df_train.shape"
   ]
  },
  {
   "cell_type": "code",
   "execution_count": 94,
   "metadata": {},
   "outputs": [
    {
     "data": {
      "text/plain": [
       "(565892, 55)"
      ]
     },
     "execution_count": 94,
     "metadata": {},
     "output_type": "execute_result"
    }
   ],
   "source": [
    "df_test = pd.read_csv('test.csv')\n",
    "df_test.shape"
   ]
  },
  {
   "cell_type": "code",
   "execution_count": 95,
   "metadata": {},
   "outputs": [
    {
     "data": {
      "text/plain": [
       "Index([u'Id', u'Elevation', u'Aspect', u'Slope',\n",
       "       u'Horizontal_Distance_To_Hydrology', u'Vertical_Distance_To_Hydrology',\n",
       "       u'Horizontal_Distance_To_Roadways', u'Hillshade_9am', u'Hillshade_Noon',\n",
       "       u'Hillshade_3pm', u'Horizontal_Distance_To_Fire_Points',\n",
       "       u'Wilderness_Area1', u'Wilderness_Area2', u'Wilderness_Area3',\n",
       "       u'Wilderness_Area4', u'Soil_Type1', u'Soil_Type2', u'Soil_Type3',\n",
       "       u'Soil_Type4', u'Soil_Type5', u'Soil_Type6', u'Soil_Type7',\n",
       "       u'Soil_Type8', u'Soil_Type9', u'Soil_Type10', u'Soil_Type11',\n",
       "       u'Soil_Type12', u'Soil_Type13', u'Soil_Type14', u'Soil_Type15',\n",
       "       u'Soil_Type16', u'Soil_Type17', u'Soil_Type18', u'Soil_Type19',\n",
       "       u'Soil_Type20', u'Soil_Type21', u'Soil_Type22', u'Soil_Type23',\n",
       "       u'Soil_Type24', u'Soil_Type25', u'Soil_Type26', u'Soil_Type27',\n",
       "       u'Soil_Type28', u'Soil_Type29', u'Soil_Type30', u'Soil_Type31',\n",
       "       u'Soil_Type32', u'Soil_Type33', u'Soil_Type34', u'Soil_Type35',\n",
       "       u'Soil_Type36', u'Soil_Type37', u'Soil_Type38', u'Soil_Type39',\n",
       "       u'Soil_Type40', u'Cover_Type'],\n",
       "      dtype='object')"
      ]
     },
     "execution_count": 95,
     "metadata": {},
     "output_type": "execute_result"
    }
   ],
   "source": [
    "df_train.columns"
   ]
  },
  {
   "cell_type": "code",
   "execution_count": 96,
   "metadata": {},
   "outputs": [
    {
     "data": {
      "text/plain": [
       "Index([u'Id', u'Elevation', u'Aspect', u'Slope',\n",
       "       u'Horizontal_Distance_To_Hydrology', u'Vertical_Distance_To_Hydrology',\n",
       "       u'Horizontal_Distance_To_Roadways', u'Hillshade_9am', u'Hillshade_Noon',\n",
       "       u'Hillshade_3pm', u'Horizontal_Distance_To_Fire_Points',\n",
       "       u'Wilderness_Area1', u'Wilderness_Area2', u'Wilderness_Area3',\n",
       "       u'Wilderness_Area4', u'Soil_Type1', u'Soil_Type2', u'Soil_Type3',\n",
       "       u'Soil_Type4', u'Soil_Type5', u'Soil_Type6', u'Soil_Type7',\n",
       "       u'Soil_Type8', u'Soil_Type9', u'Soil_Type10', u'Soil_Type11',\n",
       "       u'Soil_Type12', u'Soil_Type13', u'Soil_Type14', u'Soil_Type15',\n",
       "       u'Soil_Type16', u'Soil_Type17', u'Soil_Type18', u'Soil_Type19',\n",
       "       u'Soil_Type20', u'Soil_Type21', u'Soil_Type22', u'Soil_Type23',\n",
       "       u'Soil_Type24', u'Soil_Type25', u'Soil_Type26', u'Soil_Type27',\n",
       "       u'Soil_Type28', u'Soil_Type29', u'Soil_Type30', u'Soil_Type31',\n",
       "       u'Soil_Type32', u'Soil_Type33', u'Soil_Type34', u'Soil_Type35',\n",
       "       u'Soil_Type36', u'Soil_Type37', u'Soil_Type38', u'Soil_Type39',\n",
       "       u'Soil_Type40'],\n",
       "      dtype='object')"
      ]
     },
     "execution_count": 96,
     "metadata": {},
     "output_type": "execute_result"
    }
   ],
   "source": [
    "df_test.columns"
   ]
  },
  {
   "cell_type": "code",
   "execution_count": 97,
   "metadata": {},
   "outputs": [
    {
     "data": {
      "text/plain": [
       "7    2160\n",
       "6    2160\n",
       "5    2160\n",
       "4    2160\n",
       "3    2160\n",
       "2    2160\n",
       "1    2160\n",
       "Name: Cover_Type, dtype: int64"
      ]
     },
     "execution_count": 97,
     "metadata": {},
     "output_type": "execute_result"
    }
   ],
   "source": [
    "df_train.Cover_Type.value_counts()"
   ]
  },
  {
   "cell_type": "markdown",
   "metadata": {},
   "source": [
    "# 2. Split data into train, test, dev"
   ]
  },
  {
   "cell_type": "code",
   "execution_count": 98,
   "metadata": {
    "collapsed": true
   },
   "outputs": [],
   "source": [
    "df = pd.read_csv('train.csv')"
   ]
  },
  {
   "cell_type": "code",
   "execution_count": 99,
   "metadata": {
    "collapsed": true
   },
   "outputs": [],
   "source": [
    "from sklearn.model_selection import train_test_split\n",
    "train_df, test_dev_df = train_test_split(df, random_state=1)\n",
    "test_df, dev_df = train_test_split(test_dev_df, random_state=1)"
   ]
  },
  {
   "cell_type": "code",
   "execution_count": 100,
   "metadata": {},
   "outputs": [
    {
     "data": {
      "text/plain": [
       "(11340, 56)"
      ]
     },
     "execution_count": 100,
     "metadata": {},
     "output_type": "execute_result"
    }
   ],
   "source": [
    "train_df.shape"
   ]
  },
  {
   "cell_type": "code",
   "execution_count": 101,
   "metadata": {},
   "outputs": [
    {
     "data": {
      "text/plain": [
       "(2835, 56)"
      ]
     },
     "execution_count": 101,
     "metadata": {},
     "output_type": "execute_result"
    }
   ],
   "source": [
    "test_df.shape"
   ]
  },
  {
   "cell_type": "code",
   "execution_count": 102,
   "metadata": {},
   "outputs": [
    {
     "data": {
      "text/plain": [
       "(945, 56)"
      ]
     },
     "execution_count": 102,
     "metadata": {},
     "output_type": "execute_result"
    }
   ],
   "source": [
    "dev_df.shape"
   ]
  },
  {
   "cell_type": "code",
   "execution_count": 103,
   "metadata": {},
   "outputs": [
    {
     "data": {
      "text/plain": [
       "5    1647\n",
       "6    1631\n",
       "3    1630\n",
       "7    1628\n",
       "1    1608\n",
       "2    1599\n",
       "4    1597\n",
       "Name: Cover_Type, dtype: int64"
      ]
     },
     "execution_count": 103,
     "metadata": {},
     "output_type": "execute_result"
    }
   ],
   "source": [
    "train_df.Cover_Type.value_counts()"
   ]
  },
  {
   "cell_type": "code",
   "execution_count": 104,
   "metadata": {},
   "outputs": [
    {
     "data": {
      "text/plain": [
       "2    427\n",
       "4    421\n",
       "1    413\n",
       "6    400\n",
       "7    393\n",
       "5    393\n",
       "3    388\n",
       "Name: Cover_Type, dtype: int64"
      ]
     },
     "execution_count": 104,
     "metadata": {},
     "output_type": "execute_result"
    }
   ],
   "source": [
    "test_df.Cover_Type.value_counts()"
   ]
  },
  {
   "cell_type": "code",
   "execution_count": 105,
   "metadata": {},
   "outputs": [
    {
     "data": {
      "text/plain": [
       "4    142\n",
       "3    142\n",
       "7    139\n",
       "1    139\n",
       "2    134\n",
       "6    129\n",
       "5    120\n",
       "Name: Cover_Type, dtype: int64"
      ]
     },
     "execution_count": 105,
     "metadata": {},
     "output_type": "execute_result"
    }
   ],
   "source": [
    "dev_df.Cover_Type.value_counts()"
   ]
  },
  {
   "cell_type": "markdown",
   "metadata": {
    "collapsed": true
   },
   "source": [
    "# 3. Split data_frame into X and y"
   ]
  },
  {
   "cell_type": "code",
   "execution_count": 106,
   "metadata": {
    "collapsed": true
   },
   "outputs": [],
   "source": [
    "y_train = train_df.Cover_Type     # train_y is a pandas.core.series.Series\n",
    "y_dev = dev_df.Cover_Type\n",
    "y_test = test_df.Cover_Type"
   ]
  },
  {
   "cell_type": "code",
   "execution_count": 107,
   "metadata": {
    "collapsed": true
   },
   "outputs": [],
   "source": [
    "feature_columns = df_test.columns\n",
    "\n",
    "X_train = train_df[feature_columns]\n",
    "X_dev = dev_df[feature_columns]\n",
    "X_test = test_df[feature_columns]"
   ]
  },
  {
   "cell_type": "markdown",
   "metadata": {},
   "source": [
    "# 4. KNN \n",
    "\n",
    "Without feature engineering, for the baseline."
   ]
  },
  {
   "cell_type": "code",
   "execution_count": 109,
   "metadata": {},
   "outputs": [
    {
     "name": "stdout",
     "output_type": "stream",
     "text": [
      "Best parameter: {'n_neighbors': 1}\n",
      "Best score: 0.8394\n"
     ]
    }
   ],
   "source": [
    "from sklearn.model_selection import GridSearchCV\n",
    "from sklearn.neighbors import KNeighborsClassifier\n",
    "\n",
    "knn = KNeighborsClassifier()                                  # KNN classifier\n",
    "\n",
    "parameter_grid = {'n_neighbors': range(1,26)}                 # parameters to search\n",
    "parameter_searcher = GridSearchCV(knn, parameter_grid, cv=5)  # GridSearchCV\n",
    "parameter_searcher.fit(X_train, y_train)                      # fit\n",
    "\n",
    "print 'Best parameter:', parameter_searcher.best_params_      # best parameter for KNN\n",
    "print 'Best score:', parameter_searcher.best_score_.round(4)  # best score for KNN"
   ]
  },
  {
   "cell_type": "code",
   "execution_count": 110,
   "metadata": {},
   "outputs": [
    {
     "name": "stdout",
     "output_type": "stream",
     "text": [
      "F1 score on dev data: 0.846\n",
      "F1 score on test data: 0.8415\n"
     ]
    }
   ],
   "source": [
    "from sklearn.neighbors import KNeighborsClassifier\n",
    "from sklearn.metrics import f1_score\n",
    "\n",
    "knn = KNeighborsClassifier(n_neighbors = parameter_searcher.best_params_['n_neighbors'])\n",
    "knn.fit(X_train, y_train)\n",
    "\n",
    "print 'F1 score on dev data:', f1_score(y_dev, knn.predict(X_dev), average='weighted').round(4)\n",
    "print 'F1 score on test data:', f1_score(y_test, knn.predict(X_test), average='weighted').round(4)"
   ]
  },
  {
   "cell_type": "code",
   "execution_count": 111,
   "metadata": {
    "collapsed": true
   },
   "outputs": [],
   "source": [
    "F1_dev = []\n",
    "F1_train = []\n",
    "for n in range(1,25):\n",
    "    knn = KNeighborsClassifier(n_neighbors = n)\n",
    "    knn.fit(X_train, y_train)\n",
    "    F1_dev.append(f1_score(y_dev, knn.predict(X_dev), average='weighted').round(4))\n",
    "    F1_train.append(f1_score(y_train, knn.predict(X_train), average='weighted').round(4))"
   ]
  },
  {
   "cell_type": "code",
   "execution_count": 112,
   "metadata": {},
   "outputs": [
    {
     "data": {
      "image/png": "[encoded data removed]",
      "text/plain": [
       "<matplotlib.figure.Figure at 0x1150def50>"
      ]
     },
     "metadata": {},
     "output_type": "display_data"
    }
   ],
   "source": [
    "plt.scatter(range(1,25), F1_dev, label = 'dev')\n",
    "plt.plot(range(1,25), F1_train, label = 'train', color='orange')\n",
    "plt.xlabel('number of neighbors')\n",
    "plt.ylabel('F1 score')\n",
    "plt.legend()\n",
    "plt.show()"
   ]
  },
  {
   "cell_type": "markdown",
   "metadata": {},
   "source": [
    "### Write Predictions to CSV "
   ]
  },
  {
   "cell_type": "code",
   "execution_count": null,
   "metadata": {},
   "outputs": [],
   "source": [
    "df_test"
   ]
  },
  {
   "cell_type": "code",
   "execution_count": 153,
   "metadata": {},
   "outputs": [],
   "source": [
    "pred = knn.predict(df_test)\n",
    "ID = df_test.Id\n",
    "\n",
    "data_out = []\n",
    "for i in range(len(ID)):\n",
    "    data_out.append({'ID':ID.iloc[i], 'Cover_Type':pred[i]})\n",
    "#data_out"
   ]
  },
  {
   "cell_type": "code",
   "execution_count": 154,
   "metadata": {},
   "outputs": [
    {
     "data": {
      "text/plain": [
       "565892"
      ]
     },
     "execution_count": 154,
     "metadata": {},
     "output_type": "execute_result"
    }
   ],
   "source": [
    "len(data_out)"
   ]
  },
  {
   "cell_type": "code",
   "execution_count": 155,
   "metadata": {
    "collapsed": true
   },
   "outputs": [],
   "source": [
    "import csv\n",
    "with open('test_submission.csv', 'wt') as fout:\n",
    "    cout = csv.DictWriter(fout, ['ID','Cover_Type'])\n",
    "    cout.writeheader()\n",
    "    cout.writerows(data_out)"
   ]
  },
  {
   "cell_type": "code",
   "execution_count": null,
   "metadata": {
    "collapsed": true
   },
   "outputs": [],
   "source": []
  },
  {
   "cell_type": "markdown",
   "metadata": {
    "collapsed": true
   },
   "source": [
    "# 5. EDA"
   ]
  },
  {
   "cell_type": "code",
   "execution_count": 23,
   "metadata": {},
   "outputs": [
    {
     "data": {
      "text/plain": [
       "int64    55\n",
       "dtype: int64"
      ]
     },
     "execution_count": 23,
     "metadata": {},
     "output_type": "execute_result"
    }
   ],
   "source": [
    "# data types\n",
    "X_train.dtypes\n",
    "X_train.dtypes.value_counts()"
   ]
  },
  {
   "cell_type": "code",
   "execution_count": 40,
   "metadata": {},
   "outputs": [
    {
     "data": {
      "text/plain": [
       "Id                                    0\n",
       "Elevation                             0\n",
       "Aspect                                0\n",
       "Slope                                 0\n",
       "Horizontal_Distance_To_Hydrology      0\n",
       "Vertical_Distance_To_Hydrology        0\n",
       "Horizontal_Distance_To_Roadways       0\n",
       "Hillshade_9am                         0\n",
       "Hillshade_Noon                        0\n",
       "Hillshade_3pm                         0\n",
       "Horizontal_Distance_To_Fire_Points    0\n",
       "Wilderness_Area1                      0\n",
       "Wilderness_Area2                      0\n",
       "Wilderness_Area3                      0\n",
       "Wilderness_Area4                      0\n",
       "Soil_Type1                            0\n",
       "Soil_Type2                            0\n",
       "Soil_Type3                            0\n",
       "Soil_Type4                            0\n",
       "Soil_Type5                            0\n",
       "Soil_Type6                            0\n",
       "Soil_Type7                            0\n",
       "Soil_Type8                            0\n",
       "Soil_Type9                            0\n",
       "Soil_Type10                           0\n",
       "Soil_Type11                           0\n",
       "Soil_Type12                           0\n",
       "Soil_Type13                           0\n",
       "Soil_Type14                           0\n",
       "Soil_Type15                           0\n",
       "Soil_Type16                           0\n",
       "Soil_Type17                           0\n",
       "Soil_Type18                           0\n",
       "Soil_Type19                           0\n",
       "Soil_Type20                           0\n",
       "Soil_Type21                           0\n",
       "Soil_Type22                           0\n",
       "Soil_Type23                           0\n",
       "Soil_Type24                           0\n",
       "Soil_Type25                           0\n",
       "Soil_Type26                           0\n",
       "Soil_Type27                           0\n",
       "Soil_Type28                           0\n",
       "Soil_Type29                           0\n",
       "Soil_Type30                           0\n",
       "Soil_Type31                           0\n",
       "Soil_Type32                           0\n",
       "Soil_Type33                           0\n",
       "Soil_Type34                           0\n",
       "Soil_Type35                           0\n",
       "Soil_Type36                           0\n",
       "Soil_Type37                           0\n",
       "Soil_Type38                           0\n",
       "Soil_Type39                           0\n",
       "Soil_Type40                           0\n",
       "dtype: int64"
      ]
     },
     "execution_count": 40,
     "metadata": {},
     "output_type": "execute_result"
    }
   ],
   "source": [
    "# Check missing values, following methods give same results, no missing values\n",
    "# X_train.apply(lambda col: col.isnull().sum())\n",
    "X_train.isnull().sum()"
   ]
  },
  {
   "cell_type": "code",
   "execution_count": 38,
   "metadata": {},
   "outputs": [
    {
     "data": {
      "text/plain": [
       "5    1647\n",
       "6    1631\n",
       "3    1630\n",
       "7    1628\n",
       "1    1608\n",
       "2    1599\n",
       "4    1597\n",
       "Name: Cover_Type, dtype: int64"
      ]
     },
     "execution_count": 38,
     "metadata": {},
     "output_type": "execute_result"
    }
   ],
   "source": [
    "# distribution of target is almost uniform\n",
    "y_train.value_counts()"
   ]
  },
  {
   "cell_type": "markdown",
   "metadata": {},
   "source": [
    "### Distribution of variables"
   ]
  },
  {
   "cell_type": "code",
   "execution_count": 58,
   "metadata": {},
   "outputs": [
    {
     "data": {
      "text/plain": [
       "Index([u'Id', u'Elevation', u'Aspect', u'Slope',\n",
       "       u'Horizontal_Distance_To_Hydrology', u'Vertical_Distance_To_Hydrology',\n",
       "       u'Horizontal_Distance_To_Roadways', u'Hillshade_9am', u'Hillshade_Noon',\n",
       "       u'Hillshade_3pm', u'Horizontal_Distance_To_Fire_Points',\n",
       "       u'Wilderness_Area1', u'Wilderness_Area2', u'Wilderness_Area3',\n",
       "       u'Wilderness_Area4', u'Soil_Type1', u'Soil_Type2', u'Soil_Type3',\n",
       "       u'Soil_Type4', u'Soil_Type5', u'Soil_Type6', u'Soil_Type7',\n",
       "       u'Soil_Type8', u'Soil_Type9', u'Soil_Type10', u'Soil_Type11',\n",
       "       u'Soil_Type12', u'Soil_Type13', u'Soil_Type14', u'Soil_Type15',\n",
       "       u'Soil_Type16', u'Soil_Type17', u'Soil_Type18', u'Soil_Type19',\n",
       "       u'Soil_Type20', u'Soil_Type21', u'Soil_Type22', u'Soil_Type23',\n",
       "       u'Soil_Type24', u'Soil_Type25', u'Soil_Type26', u'Soil_Type27',\n",
       "       u'Soil_Type28', u'Soil_Type29', u'Soil_Type30', u'Soil_Type31',\n",
       "       u'Soil_Type32', u'Soil_Type33', u'Soil_Type34', u'Soil_Type35',\n",
       "       u'Soil_Type36', u'Soil_Type37', u'Soil_Type38', u'Soil_Type39',\n",
       "       u'Soil_Type40'],\n",
       "      dtype='object')"
      ]
     },
     "execution_count": 58,
     "metadata": {},
     "output_type": "execute_result"
    }
   ],
   "source": [
    "X_train.columns"
   ]
  },
  {
   "cell_type": "code",
   "execution_count": 59,
   "metadata": {},
   "outputs": [
    {
     "data": {
      "text/plain": [
       "Index([u'Elevation', u'Aspect', u'Slope', u'Horizontal_Distance_To_Hydrology',\n",
       "       u'Vertical_Distance_To_Hydrology', u'Horizontal_Distance_To_Roadways',\n",
       "       u'Hillshade_9am', u'Hillshade_Noon', u'Hillshade_3pm',\n",
       "       u'Horizontal_Distance_To_Fire_Points'],\n",
       "      dtype='object')"
      ]
     },
     "execution_count": 59,
     "metadata": {},
     "output_type": "execute_result"
    }
   ],
   "source": [
    "numeric_features = X_train.columns[1:11]\n",
    "numeric_features"
   ]
  },
  {
   "cell_type": "code",
   "execution_count": 74,
   "metadata": {},
   "outputs": [
    {
     "data": {
      "text/plain": [
       "Index([u'Wilderness_Area1', u'Wilderness_Area2', u'Wilderness_Area3',\n",
       "       u'Wilderness_Area4', u'Soil_Type1', u'Soil_Type2', u'Soil_Type3',\n",
       "       u'Soil_Type4', u'Soil_Type5', u'Soil_Type6', u'Soil_Type7',\n",
       "       u'Soil_Type8', u'Soil_Type9', u'Soil_Type10', u'Soil_Type11',\n",
       "       u'Soil_Type12', u'Soil_Type13', u'Soil_Type14', u'Soil_Type15',\n",
       "       u'Soil_Type16', u'Soil_Type17', u'Soil_Type18', u'Soil_Type19',\n",
       "       u'Soil_Type20', u'Soil_Type21', u'Soil_Type22', u'Soil_Type23',\n",
       "       u'Soil_Type24', u'Soil_Type25', u'Soil_Type26', u'Soil_Type27',\n",
       "       u'Soil_Type28', u'Soil_Type29', u'Soil_Type30', u'Soil_Type31',\n",
       "       u'Soil_Type32', u'Soil_Type33', u'Soil_Type34', u'Soil_Type35',\n",
       "       u'Soil_Type36', u'Soil_Type37', u'Soil_Type38', u'Soil_Type39',\n",
       "       u'Soil_Type40'],\n",
       "      dtype='object')"
      ]
     },
     "execution_count": 74,
     "metadata": {},
     "output_type": "execute_result"
    }
   ],
   "source": [
    "categorical_features = X_train.columns[11:]\n",
    "categorical_features"
   ]
  },
  {
   "cell_type": "code",
   "execution_count": 89,
   "metadata": {},
   "outputs": [
    {
     "data": {
      "image/png": "[encoded data removed]",
      "text/plain": [
       "<matplotlib.figure.Figure at 0x114c08cd0>"
      ]
     },
     "metadata": {},
     "output_type": "display_data"
    }
   ],
   "source": [
    "#X_train[['Elevation', 'Aspect','Slope']].hist()\n",
    "\n",
    "X_train[numeric_features].hist(figsize=(12,12))\n",
    "plt.show()"
   ]
  },
  {
   "cell_type": "code",
   "execution_count": 70,
   "metadata": {},
   "outputs": [
    {
     "data": {
      "text/html": [
       "<div>\n",
       "<style scoped>\n",
       "    .dataframe tbody tr th:only-of-type {\n",
       "        vertical-align: middle;\n",
       "    }\n",
       "\n",
       "    .dataframe tbody tr th {\n",
       "        vertical-align: top;\n",
       "    }\n",
       "\n",
       "    .dataframe thead th {\n",
       "        text-align: right;\n",
       "    }\n",
       "</style>\n",
       "<table border=\"1\" class=\"dataframe\">\n",
       "  <thead>\n",
       "    <tr style=\"text-align: right;\">\n",
       "      <th></th>\n",
       "      <th>count</th>\n",
       "      <th>mean</th>\n",
       "      <th>std</th>\n",
       "      <th>min</th>\n",
       "      <th>25%</th>\n",
       "      <th>50%</th>\n",
       "      <th>75%</th>\n",
       "      <th>max</th>\n",
       "    </tr>\n",
       "  </thead>\n",
       "  <tbody>\n",
       "    <tr>\n",
       "      <th>Elevation</th>\n",
       "      <td>11340.0</td>\n",
       "      <td>2749.620723</td>\n",
       "      <td>417.808200</td>\n",
       "      <td>1863.0</td>\n",
       "      <td>2376.0</td>\n",
       "      <td>2751.0</td>\n",
       "      <td>3103.0</td>\n",
       "      <td>3846.0</td>\n",
       "    </tr>\n",
       "    <tr>\n",
       "      <th>Aspect</th>\n",
       "      <td>11340.0</td>\n",
       "      <td>156.266138</td>\n",
       "      <td>110.192472</td>\n",
       "      <td>0.0</td>\n",
       "      <td>64.0</td>\n",
       "      <td>124.0</td>\n",
       "      <td>260.0</td>\n",
       "      <td>360.0</td>\n",
       "    </tr>\n",
       "    <tr>\n",
       "      <th>Slope</th>\n",
       "      <td>11340.0</td>\n",
       "      <td>16.502557</td>\n",
       "      <td>8.441615</td>\n",
       "      <td>0.0</td>\n",
       "      <td>10.0</td>\n",
       "      <td>15.0</td>\n",
       "      <td>22.0</td>\n",
       "      <td>49.0</td>\n",
       "    </tr>\n",
       "    <tr>\n",
       "      <th>Horizontal_Distance_To_Hydrology</th>\n",
       "      <td>11340.0</td>\n",
       "      <td>227.047707</td>\n",
       "      <td>209.623473</td>\n",
       "      <td>0.0</td>\n",
       "      <td>67.0</td>\n",
       "      <td>180.0</td>\n",
       "      <td>324.0</td>\n",
       "      <td>1343.0</td>\n",
       "    </tr>\n",
       "    <tr>\n",
       "      <th>Vertical_Distance_To_Hydrology</th>\n",
       "      <td>11340.0</td>\n",
       "      <td>51.372840</td>\n",
       "      <td>61.590572</td>\n",
       "      <td>-134.0</td>\n",
       "      <td>5.0</td>\n",
       "      <td>33.0</td>\n",
       "      <td>80.0</td>\n",
       "      <td>554.0</td>\n",
       "    </tr>\n",
       "    <tr>\n",
       "      <th>Horizontal_Distance_To_Roadways</th>\n",
       "      <td>11340.0</td>\n",
       "      <td>1705.479894</td>\n",
       "      <td>1318.869380</td>\n",
       "      <td>0.0</td>\n",
       "      <td>752.0</td>\n",
       "      <td>1315.0</td>\n",
       "      <td>2260.0</td>\n",
       "      <td>6890.0</td>\n",
       "    </tr>\n",
       "    <tr>\n",
       "      <th>Hillshade_9am</th>\n",
       "      <td>11340.0</td>\n",
       "      <td>212.800088</td>\n",
       "      <td>30.313149</td>\n",
       "      <td>58.0</td>\n",
       "      <td>196.0</td>\n",
       "      <td>220.0</td>\n",
       "      <td>235.0</td>\n",
       "      <td>254.0</td>\n",
       "    </tr>\n",
       "    <tr>\n",
       "      <th>Hillshade_Noon</th>\n",
       "      <td>11340.0</td>\n",
       "      <td>218.867549</td>\n",
       "      <td>22.916015</td>\n",
       "      <td>99.0</td>\n",
       "      <td>207.0</td>\n",
       "      <td>223.0</td>\n",
       "      <td>235.0</td>\n",
       "      <td>254.0</td>\n",
       "    </tr>\n",
       "    <tr>\n",
       "      <th>Hillshade_3pm</th>\n",
       "      <td>11340.0</td>\n",
       "      <td>134.902910</td>\n",
       "      <td>46.017597</td>\n",
       "      <td>0.0</td>\n",
       "      <td>106.0</td>\n",
       "      <td>138.0</td>\n",
       "      <td>167.0</td>\n",
       "      <td>248.0</td>\n",
       "    </tr>\n",
       "    <tr>\n",
       "      <th>Horizontal_Distance_To_Fire_Points</th>\n",
       "      <td>11340.0</td>\n",
       "      <td>1505.621164</td>\n",
       "      <td>1094.225093</td>\n",
       "      <td>0.0</td>\n",
       "      <td>726.0</td>\n",
       "      <td>1249.0</td>\n",
       "      <td>1975.0</td>\n",
       "      <td>6993.0</td>\n",
       "    </tr>\n",
       "  </tbody>\n",
       "</table>\n",
       "</div>"
      ],
      "text/plain": [
       "                                      count         mean          std     min  \\\n",
       "Elevation                           11340.0  2749.620723   417.808200  1863.0   \n",
       "Aspect                              11340.0   156.266138   110.192472     0.0   \n",
       "Slope                               11340.0    16.502557     8.441615     0.0   \n",
       "Horizontal_Distance_To_Hydrology    11340.0   227.047707   209.623473     0.0   \n",
       "Vertical_Distance_To_Hydrology      11340.0    51.372840    61.590572  -134.0   \n",
       "Horizontal_Distance_To_Roadways     11340.0  1705.479894  1318.869380     0.0   \n",
       "Hillshade_9am                       11340.0   212.800088    30.313149    58.0   \n",
       "Hillshade_Noon                      11340.0   218.867549    22.916015    99.0   \n",
       "Hillshade_3pm                       11340.0   134.902910    46.017597     0.0   \n",
       "Horizontal_Distance_To_Fire_Points  11340.0  1505.621164  1094.225093     0.0   \n",
       "\n",
       "                                       25%     50%     75%     max  \n",
       "Elevation                           2376.0  2751.0  3103.0  3846.0  \n",
       "Aspect                                64.0   124.0   260.0   360.0  \n",
       "Slope                                 10.0    15.0    22.0    49.0  \n",
       "Horizontal_Distance_To_Hydrology      67.0   180.0   324.0  1343.0  \n",
       "Vertical_Distance_To_Hydrology         5.0    33.0    80.0   554.0  \n",
       "Horizontal_Distance_To_Roadways      752.0  1315.0  2260.0  6890.0  \n",
       "Hillshade_9am                        196.0   220.0   235.0   254.0  \n",
       "Hillshade_Noon                       207.0   223.0   235.0   254.0  \n",
       "Hillshade_3pm                        106.0   138.0   167.0   248.0  \n",
       "Horizontal_Distance_To_Fire_Points   726.0  1249.0  1975.0  6993.0  "
      ]
     },
     "execution_count": 70,
     "metadata": {},
     "output_type": "execute_result"
    }
   ],
   "source": [
    "X_train[numeric_features].describe().T"
   ]
  },
  {
   "cell_type": "code",
   "execution_count": null,
   "metadata": {},
   "outputs": [],
   "source": [
    "for col in categorical_features:\n",
    "    print col\n",
    "    print X_train[col].value_counts()"
   ]
  },
  {
   "cell_type": "code",
   "execution_count": 88,
   "metadata": {},
   "outputs": [
    {
     "data": {
      "image/png": "[encoded data removed]",
      "text/plain": [
       "<matplotlib.figure.Figure at 0x114d48750>"
      ]
     },
     "metadata": {},
     "output_type": "display_data"
    }
   ],
   "source": [
    "X_train[categorical_features].sum(axis=0).plot(kind='bar', figsize=(15,5))\n",
    "plt.show()"
   ]
  },
  {
   "cell_type": "code",
   "execution_count": null,
   "metadata": {
    "collapsed": true
   },
   "outputs": [],
   "source": []
  }
 ],
 "metadata": {
  "kernelspec": {
   "display_name": "Python 2",
   "language": "python",
   "name": "python2"
  },
  "language_info": {
   "codemirror_mode": {
    "name": "ipython",
    "version": 2
   },
   "file_extension": ".py",
   "mimetype": "text/x-python",
   "name": "python",
   "nbconvert_exporter": "python",
   "pygments_lexer": "ipython2",
   "version": "2.7.13"
  }
 },
 "nbformat": 4,
 "nbformat_minor": 2
}
