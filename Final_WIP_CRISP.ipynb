{
 "cells": [
  {
   "cell_type": "markdown",
   "metadata": {},
   "source": [
    "# Team Park Rangers: Forest Classification Kaggle Competition"
   ]
  },
  {
   "cell_type": "code",
   "execution_count": 29,
   "metadata": {},
   "outputs": [],
   "source": [
    "#NEED TO CLEAN THIS UP\n",
    "import math\n",
    "import csv\n",
    "import time\n",
    "import numpy as np\n",
    "import pandas as pd\n",
    "import matplotlib.pyplot as plt\n",
    "import sklearn.metrics as skl\n",
    "import csv\n",
    "from matplotlib.ticker import MultipleLocator\n",
    "from sklearn.pipeline import Pipeline\n",
    "from sklearn.datasets import fetch_mldata\n",
    "from sklearn.neighbors import KNeighborsClassifier\n",
    "from sklearn.metrics import confusion_matrix\n",
    "from sklearn.linear_model import LinearRegression\n",
    "from sklearn.linear_model import LogisticRegression\n",
    "from sklearn.naive_bayes import BernoulliNB\n",
    "from sklearn.naive_bayes import MultinomialNB\n",
    "from sklearn.naive_bayes import GaussianNB\n",
    "from sklearn.grid_search import GridSearchCV\n",
    "from sklearn.metrics import classification_report\n",
    "from sklearn import metrics, cross_validation\n",
    "\n",
    "import seaborn as sns\n",
    "import matplotlib.cm as cm\n",
    "from sklearn.decomposition import PCA\n",
    "\n",
    "from sklearn.ensemble import RandomForestRegressor\n",
    "from sklearn.ensemble import RandomForestClassifier\n",
    "from sklearn.model_selection import cross_val_score\n",
    "from sklearn.metrics import roc_auc_score\n",
    "from sklearn.metrics import accuracy_score\n",
    "from pprint import pprint\n",
    "from sklearn.model_selection import RandomizedSearchCV\n",
    "\n",
    "from sklearn.metrics import f1_score\n",
    "\n",
    "from sklearn.preprocessing import Imputer, StandardScaler\n",
    "from sklearn.model_selection import train_test_split\n",
    "\n",
    "from sklearn.pipeline import FeatureUnion\n",
    "from sklearn.preprocessing import FunctionTransformer, StandardScaler, Imputer\n",
    "from sklearn.preprocessing import MinMaxScaler\n",
    "from sklearn.preprocessing import Normalizer\n",
    "from sklearn.pipeline import Pipeline\n"
   ]
  },
  {
   "cell_type": "markdown",
   "metadata": {},
   "source": [
    "## 1. Business Understanding (PKB)\n",
    "\n",
    "- What problem are we trying solve?\n",
    "- What are the relevant metrics? How much do we plan to improve them?\n",
    "- What will we deliver?"
   ]
  },
  {
   "cell_type": "code",
   "execution_count": null,
   "metadata": {},
   "outputs": [],
   "source": []
  },
  {
   "cell_type": "markdown",
   "metadata": {},
   "source": [
    "## 2. Data Understanding (ZY)\n",
    "\n",
    "- What are the raw data sources?\n",
    "- What does each 'unit' (e.g. row) of data represent?\n",
    "- What are the fields (columns)?\n",
    "- EDA\n",
    "  - Distribution of each feature\n",
    "  - Missing values\n",
    "  - Distribution of target\n",
    "  - Relationships between features\n",
    "  - Other idiosyncracies?"
   ]
  },
  {
   "cell_type": "markdown",
   "metadata": {},
   "source": [
    "#### statistical description\n",
    "\n",
    "- No missing values. every row can be used.\n",
    "- Vertical_Distance_To_Hydrology has negative values.\n",
    "- Wilderness_Area and Soil_Type are one-hot encoded, they could be converted back for some analysis.\n",
    "- Soil_Type7 and Soil_Type15 can be removed as they are constant (all zeros)\n",
    "- Scales are not the same for all, rescaling and standardization may be helpful for some algorithms.\n"
   ]
  },
  {
   "cell_type": "code",
   "execution_count": null,
   "metadata": {},
   "outputs": [],
   "source": [
    "data_train = pd.read_csv('train.csv')             # read training data\n",
    "data_test = pd.read_csv('test.csv')\n",
    "\n",
    "df_train, df_test = train_test_split(data_train, random_state=1)\n",
    "\n",
    "# classification is target\n",
    "target = df_train.columns[-1]\n",
    "#remove ID\n",
    "all_features_ALL = df_train.columns[1:-1]\n",
    "\n",
    "#seperate features by data type\n",
    "num_features = df_train.columns[1:11]\n",
    "cat_features_ALL = df_train.columns[11:-1]\n",
    "\n",
    "#seperate binary features by classification covered\n",
    "wild_features = df_train.columns[11:15]\n",
    "soil_features_ALL = df_train.columns[15:-1]\n"
   ]
  },
  {
   "cell_type": "code",
   "execution_count": null,
   "metadata": {},
   "outputs": [],
   "source": [
    "df_train[num_features].hist(figsize=(16,12), bins=20)\n",
    "plt.show()"
   ]
  },
  {
   "cell_type": "markdown",
   "metadata": {},
   "source": [
    "#### skew\n",
    "\n",
    "- values close to 0 show less skew\n",
    "\n",
    "- several features in Soil_Type show a large skew. Hence, some algorithms may benefit if skew corrected"
   ]
  },
  {
   "cell_type": "code",
   "execution_count": null,
   "metadata": {},
   "outputs": [],
   "source": [
    "df_train.skew().plot(kind='bar', figsize=(15,4))\n",
    "plt.show()"
   ]
  },
  {
   "cell_type": "markdown",
   "metadata": {},
   "source": [
    "#### class distribution\n",
    "\n",
    "- all classes have the same number, no class-rebalancing is necessary"
   ]
  },
  {
   "cell_type": "code",
   "execution_count": null,
   "metadata": {},
   "outputs": [],
   "source": [
    "df_train.groupby('Cover_Type').size()"
   ]
  },
  {
   "cell_type": "markdown",
   "metadata": {},
   "source": [
    "### 2.1 Correlations\n",
    "\n",
    "- Correlation requires continuous data, ignore Wilderness_Area and Soil_Type here.\n",
    "\n",
    "- strong correlation observed for following pairs, opportunity to reduce features"
   ]
  },
  {
   "cell_type": "code",
   "execution_count": null,
   "metadata": {},
   "outputs": [],
   "source": [
    "size = num_features.shape[0]         # size: 10 numeric features\n",
    "num_data = df_train[num_features]    #  selecting numeric features\n",
    "\n",
    "num_data_cor = num_data.corr()       # correlation matrix\n",
    "\n",
    "cor_threshold = 0.5                  # threshold for selecting highly correlated features\n",
    "num_data_cor_high = []               # list for pairs with cor > threshold\n",
    "\n",
    "# search for highly correlated pairs\n",
    "for i in range(0, size):\n",
    "    for j in range(i+1, size):\n",
    "        if abs(num_data_cor.iloc[i,j]) >= cor_threshold:                  \n",
    "            num_data_cor_high.append([num_data_cor.iloc[i,j], i, j])  # store correlation\n",
    "            \n",
    "# sort to show high ones\n",
    "num_data_cor_high_sorted = sorted(num_data_cor_high, key = lambda x: -abs(x[0]))\n",
    "\n",
    "# print correlation and column names\n",
    "for v, i, j in num_data_cor_high_sorted:\n",
    "    print(\"{} & {} = {:.2f}\".format(num_features[i], num_features[j], v))\n",
    "\n",
    "# correlation heat map\n",
    "fig, ax = plt.subplots(figsize=(8, 8))  \n",
    "sns.heatmap(num_data_cor, square=True, linewidths=1)\n",
    "plt.title('Correlation of Numeric Variables')\n",
    "plt.show()"
   ]
  },
  {
   "cell_type": "code",
   "execution_count": null,
   "metadata": {},
   "outputs": [],
   "source": [
    "cmap = cm.jet\n",
    "\n",
    "labels = df_train.Cover_Type\n",
    "\n",
    "fig, axes = plt.subplots(1, 2, figsize=(20,10))\n",
    "\n",
    "df_train.plot(kind='scatter', x='Elevation', y='Horizontal_Distance_To_Roadways',\n",
    "              marker='o', c=labels, cmap=cmap, colorbar=False, ax=axes[0])\n",
    "\n",
    "df_train.plot(kind='scatter', x='Elevation', y='Aspect', \n",
    "              marker='o', c=labels, cmap=cmap, colorbar=False, ax=axes[1])\n",
    "\n",
    "plt.show()"
   ]
  },
  {
   "cell_type": "code",
   "execution_count": null,
   "metadata": {},
   "outputs": [],
   "source": [
    "col_names = df_train.columns.tolist()\n",
    "\n",
    "A = np.array(col_names)\n",
    "\n",
    "soil_types = [item for item in A if \"Soil\" in item]\n",
    "wilderness_areas = [item for item in A if \"Wilderness_Area\" in item]\n",
    "\n",
    "# Which wilderness_area support which cover_types?\n",
    "\n",
    "for wilderness_area in wilderness_areas: print(wilderness_area, df_train[wilderness_area].sum())\n",
    "\n",
    "wild_areas_sum = df_train[wilderness_areas].groupby(df_train['Cover_Type']).sum()\n",
    "wild_areas_sum.T.plot(kind='bar', stacked=True, figsize=(10,6), cmap='jet')\n",
    "plt.show()    "
   ]
  },
  {
   "cell_type": "code",
   "execution_count": null,
   "metadata": {},
   "outputs": [],
   "source": [
    "# Which soil_types support which cover_types?\n",
    "\n",
    "# for soil_type in soil_types: print (soil_type, df_train[soil_type].sum())\n",
    "\n",
    "types_sum = df_train[soil_types].groupby(df_train['Cover_Type']).sum()\n",
    "types_sum.T.plot(kind='bar', stacked=True, figsize=(15,6), cmap='jet')\n",
    "plt.show()"
   ]
  },
  {
   "cell_type": "markdown",
   "metadata": {},
   "source": [
    "## 3. Data Preparation\n",
    "\n",
    "- What steps are taken to prepare the data for modeling?\n",
    "  - feature transformations? engineering?\n",
    "  - table joins? aggregation?\n",
    "- Precise description of modeling base tables.\n",
    "  - What are the rows/columns of X (the predictors)?\n",
    "  - What is y (the target)?"
   ]
  },
  {
   "cell_type": "code",
   "execution_count": null,
   "metadata": {},
   "outputs": [],
   "source": [
    "# remove constant Soil_Type7 and Soil_Type15 because they do not have data\n",
    "all_features = all_features_ALL.drop(['Soil_Type7', 'Soil_Type15'])\n",
    "cat_features = cat_features_ALL.drop(['Soil_Type7', 'Soil_Type15'])\n",
    "soil_features = soil_features_ALL.drop(['Soil_Type7', 'Soil_Type15'])\n"
   ]
  },
  {
   "cell_type": "code",
   "execution_count": 30,
   "metadata": {},
   "outputs": [],
   "source": [
    "# STEP 1: Define the features  #########################################\n",
    "def get_num_features(features):\n",
    "    num_features = [item for item in features if 'Soil' not in item and 'Wilderness' not in item ]\n",
    "    return num_features\n",
    "\n",
    "def get_cat_features(features):\n",
    "    cat_features = [item for item in features if 'Soil' in item or 'Wilderness' in item ]\n",
    "    return cat_features\n",
    "\n",
    "features = all_features\n",
    "\n",
    "num_features = get_num_features(features)\n",
    "cat_features = get_cat_features(features)\n",
    "\n",
    "def select_num_features(X):\n",
    "    return X[num_features]\n",
    "\n",
    "def select_cat_features(X):\n",
    "    return X[cat_features]\n",
    "\n",
    "num_feature_pipeline = Pipeline(steps=[\n",
    "    ('select', FunctionTransformer(select_num_features, validate=False)),\n",
    "    ('scale', StandardScaler())\n",
    "])\n",
    "\n",
    "cat_feature_pipeline = Pipeline(steps=[\n",
    "    ('select', FunctionTransformer(select_cat_features, validate=False) )    \n",
    "])\n",
    "\n",
    "fu = FeatureUnion([\n",
    "    ('numeric', num_feature_pipeline),\n",
    "    ('categorical', cat_feature_pipeline)\n",
    "])"
   ]
  },
  {
   "cell_type": "markdown",
   "metadata": {},
   "source": [
    "## 4. Modeling\n",
    "\n",
    "- What model are we using? Why?\n",
    "- Assumptions?\n",
    "- Regularization?"
   ]
  },
  {
   "cell_type": "markdown",
   "metadata": {},
   "source": [
    "### 4.1 Logistic Regression (PKB)"
   ]
  },
  {
   "cell_type": "code",
   "execution_count": 79,
   "metadata": {},
   "outputs": [],
   "source": [
    "lr_pipe = Pipeline(steps=[\n",
    "    ('preprocess', fu),\n",
    "    ('predict', LogisticRegression(penalty='l2', C=2.0))\n",
    "])\n",
    "\n",
    "lr_pipe.fit(df_train, df_train[target])\n",
    "\n",
    "y_pred_lr = lr_pipe.predict(df_test)  # get predicted labels"
   ]
  },
  {
   "cell_type": "code",
   "execution_count": 85,
   "metadata": {},
   "outputs": [],
   "source": [
    "\n",
    "lr_pipe_pca = Pipeline(steps=[\n",
    "    ('preprocess', fu),\n",
    "    ('pca', PCA(n_components= 52)),\n",
    "    ('predict', LogisticRegression(penalty='l2', C=2.0))\n",
    "])\n",
    "\n",
    "lr_pipe_pca.fit(df_train, df_train[target])\n",
    "\n",
    "y_pred_lr_pca = lr_pipe_pca.predict(df_test)  # get predicted labels"
   ]
  },
  {
   "cell_type": "code",
   "execution_count": 75,
   "metadata": {},
   "outputs": [
    {
     "name": "stdout",
     "output_type": "stream",
     "text": [
      "0.6713\n",
      "44\n"
     ]
    },
    {
     "data": {
      "image/png": "[encoded data removed]",
      "text/plain": [
       "<matplotlib.figure.Figure at 0x11665a588>"
      ]
     },
     "metadata": {},
     "output_type": "display_data"
    }
   ],
   "source": [
    "def best_components(n_features):\n",
    "    lr_pipe = Pipeline(steps=[\n",
    "        ('preprocess', fu),\n",
    "        ('pca', PCA(n_components= n_features)),\n",
    "        ('predict', LogisticRegression(penalty='l2', C=2.0))\n",
    "    ])\n",
    "\n",
    "    lr_pipe.fit(df_train, df_train[target])\n",
    "    \n",
    "    scores_lr = cross_val_score(lr_pipe, df_train, df_train[target], cv=2)\n",
    "    return scores_lr.mean().round(4)\n",
    "\n",
    "out = [best_components(i) for i in range(1, 52)]\n",
    "\n",
    "plt.plot(out)\n",
    "print(np.max(out))\n",
    "print(np.argmax(out))"
   ]
  },
  {
   "cell_type": "markdown",
   "metadata": {},
   "source": [
    "### 4.2 KNN (ZY)"
   ]
  },
  {
   "cell_type": "markdown",
   "metadata": {},
   "source": [
    "### 4.3 SVM (ZY)"
   ]
  },
  {
   "cell_type": "markdown",
   "metadata": {},
   "source": [
    "### 4.4 RF (ZD)"
   ]
  },
  {
   "cell_type": "markdown",
   "metadata": {},
   "source": [
    "### 4.5 AdaBoost (ZY)"
   ]
  },
  {
   "cell_type": "markdown",
   "metadata": {},
   "source": [
    "## 5. Evaluation\n",
    "\n",
    "- How well does the model perform?\n",
    "  - Accuracy\n",
    "  - ROC curves\n",
    "  - Cross-validation\n",
    "  - other metrics? performance?\n",
    "\n",
    "- AB test results (if any)"
   ]
  },
  {
   "cell_type": "markdown",
   "metadata": {},
   "source": [
    "### 5.1 Logistic Regression (PKB)"
   ]
  },
  {
   "cell_type": "code",
   "execution_count": 82,
   "metadata": {},
   "outputs": [
    {
     "name": "stdout",
     "output_type": "stream",
     "text": [
      "             precision    recall  f1-score   support\n",
      "\n",
      "          1       0.63      0.63      0.63       552\n",
      "          2       0.58      0.48      0.53       561\n",
      "          3       0.61      0.56      0.58       530\n",
      "          4       0.82      0.89      0.85       563\n",
      "          5       0.61      0.70      0.65       513\n",
      "          6       0.58      0.59      0.59       529\n",
      "          7       0.86      0.87      0.87       532\n",
      "\n",
      "avg / total       0.67      0.67      0.67      3780\n",
      "\n",
      "[0.6693 0.6789 0.6755 0.6708 0.6614]\n",
      "0.6712\n"
     ]
    }
   ],
   "source": [
    "#base log F1\n",
    "y_test = df_test[target]                # get correct labels\n",
    "report_lr = classification_report(y_test, y_pred_lr)\n",
    "print(report_lr)\n",
    "#base log cross validation\n",
    "scores_lr = cross_val_score(lr_pipe, df_train, df_train[target], cv=5)\n",
    "print(scores_lr.round(4))\n",
    "print(scores_lr.mean().round(4))"
   ]
  },
  {
   "cell_type": "code",
   "execution_count": 88,
   "metadata": {},
   "outputs": [
    {
     "name": "stdout",
     "output_type": "stream",
     "text": [
      "[[351  94   1   0  38   6  62]\n",
      " [128 274  10   0 119  25   5]\n",
      " [  0   2 292  75  15 146   0]\n",
      " [  0   0  28 507   0  28   0]\n",
      " [  9  68  46   0 363  27   0]\n",
      " [  0  19  99  42  47 322   0]\n",
      " [ 66   4   0   0   2   0 460]]\n"
     ]
    }
   ],
   "source": [
    "y_pred_lr = lr_pipe.predict(df_test)\n",
    "confusion_lr = confusion_matrix(y_test, y_pred_lr, labels=[1,2,3,4,5,6,7])\n",
    "print(confusion_lr)"
   ]
  },
  {
   "cell_type": "code",
   "execution_count": 80,
   "metadata": {},
   "outputs": [],
   "source": [
    "# STEP 3: Train the lr_pipe and Make predictions ########################\n",
    "lr_pipe.fit(data_train, data_train[target])\n",
    "\n",
    "pred = lr_pipe.predict(data_test)\n",
    "ID = data_test.Id\n",
    "\n",
    "# STEP 4: Write to file for Kaggle Submission #############################\n",
    "data_out = []\n",
    "for i in range(len(ID)):\n",
    "    data_out.append({'ID':ID.iloc[i], 'Cover_Type':pred[i]})\n",
    "\n",
    "import csv\n",
    "with open('base_log_model.csv', 'wt') as fout:\n",
    "    cout = csv.DictWriter(fout, ['ID','Cover_Type'])\n",
    "    cout.writeheader()\n",
    "    cout.writerows(data_out)"
   ]
  },
  {
   "cell_type": "code",
   "execution_count": 86,
   "metadata": {},
   "outputs": [
    {
     "name": "stdout",
     "output_type": "stream",
     "text": [
      "             precision    recall  f1-score   support\n",
      "\n",
      "          1       0.63      0.63      0.63       552\n",
      "          2       0.58      0.48      0.53       561\n",
      "          3       0.61      0.56      0.58       530\n",
      "          4       0.82      0.89      0.85       563\n",
      "          5       0.61      0.70      0.65       513\n",
      "          6       0.58      0.59      0.59       529\n",
      "          7       0.87      0.86      0.87       532\n",
      "\n",
      "avg / total       0.67      0.67      0.67      3780\n",
      "\n",
      "[0.6689 0.6793 0.675  0.6708 0.6614]\n",
      "0.6711\n"
     ]
    }
   ],
   "source": [
    "#base log F1\n",
    "y_test = df_test[target]                # get correct labels\n",
    "report_lr_pca = classification_report(y_test, y_pred_lr_pca)\n",
    "print(report_lr_pca)\n",
    "#base log cross validation\n",
    "scores_lr_pca = cross_val_score(lr_pipe_pca, df_train, df_train[target], cv=5)\n",
    "print(scores_lr_pca.round(4))\n",
    "print(scores_lr_pca.mean().round(4))"
   ]
  },
  {
   "cell_type": "code",
   "execution_count": 89,
   "metadata": {},
   "outputs": [
    {
     "name": "stdout",
     "output_type": "stream",
     "text": [
      "[[351  94   1   0  38   6  62]\n",
      " [127 275  10   0 119  25   5]\n",
      " [  0   2 292  75  15 146   0]\n",
      " [  0   0  28 508   0  27   0]\n",
      " [  9  68  46   0 363  27   0]\n",
      " [  0  19  99  42  47 322   0]\n",
      " [ 66   4   0   0   2   0 460]]\n"
     ]
    }
   ],
   "source": [
    "y_pred_lr_pca = lr_pipe_pca.predict(df_test)\n",
    "confusion_lr_pca = confusion_matrix(y_test, y_pred_lr_pca, labels=[1,2,3,4,5,6,7])\n",
    "print(confusion_lr_pca)"
   ]
  },
  {
   "cell_type": "code",
   "execution_count": 87,
   "metadata": {},
   "outputs": [],
   "source": [
    "# STEP 3: Train the lr_pipe and Make predictions ########################\n",
    "lr_pipe_pca.fit(data_train, data_train[target])\n",
    "\n",
    "pred = lr_pipe_pca.predict(data_test)\n",
    "ID = data_test.Id\n",
    "\n",
    "# STEP 4: Write to file for Kaggle Submission #############################\n",
    "data_out = []\n",
    "for i in range(len(ID)):\n",
    "    data_out.append({'ID':ID.iloc[i], 'Cover_Type':pred[i]})\n",
    "\n",
    "import csv\n",
    "with open('pca_log_model.csv', 'wt') as fout:\n",
    "    cout = csv.DictWriter(fout, ['ID','Cover_Type'])\n",
    "    cout.writeheader()\n",
    "    cout.writerows(data_out)"
   ]
  },
  {
   "cell_type": "markdown",
   "metadata": {},
   "source": [
    "### 5.2 KNN (ZY)"
   ]
  },
  {
   "cell_type": "markdown",
   "metadata": {},
   "source": [
    "### 5.3 SVM (ZY)"
   ]
  },
  {
   "cell_type": "markdown",
   "metadata": {},
   "source": [
    "### 5.4 RF (ZD)"
   ]
  },
  {
   "cell_type": "markdown",
   "metadata": {},
   "source": [
    "### 5.5 AdaBoost (ZY)"
   ]
  },
  {
   "cell_type": "markdown",
   "metadata": {},
   "source": [
    "## 6. Deployment\n",
    "\n",
    "- How is the model deployed?\n",
    "  - prediction service?\n",
    "  - serialized model?\n",
    "  - regression coefficients?\n",
    "- What support is provided after initial deployment?"
   ]
  }
 ],
 "metadata": {
  "kernelspec": {
   "display_name": "Python 3",
   "language": "python",
   "name": "python3"
  },
  "language_info": {
   "codemirror_mode": {
    "name": "ipython",
    "version": 3
   },
   "file_extension": ".py",
   "mimetype": "text/x-python",
   "name": "python",
   "nbconvert_exporter": "python",
   "pygments_lexer": "ipython3",
   "version": "3.6.4"
  }
 },
 "nbformat": 4,
 "nbformat_minor": 2
}
