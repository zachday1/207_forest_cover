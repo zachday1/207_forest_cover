{
 "cells": [
  {
   "cell_type": "code",
   "execution_count": 1,
   "metadata": {},
   "outputs": [
    {
     "name": "stderr",
     "output_type": "stream",
     "text": [
      "/Users/patrickb/anaconda3/lib/python3.6/site-packages/sklearn/cross_validation.py:41: DeprecationWarning: This module was deprecated in version 0.18 in favor of the model_selection module into which all the refactored classes and functions are moved. Also note that the interface of the new CV iterators are different from that of this module. This module will be removed in 0.20.\n",
      "  \"This module will be removed in 0.20.\", DeprecationWarning)\n",
      "/Users/patrickb/anaconda3/lib/python3.6/site-packages/sklearn/grid_search.py:42: DeprecationWarning: This module was deprecated in version 0.18 in favor of the model_selection module into which all the refactored classes and functions are moved. This module will be removed in 0.20.\n",
      "  DeprecationWarning)\n"
     ]
    }
   ],
   "source": [
    "#when in doubt, import it all\n",
    "import math\n",
    "import csv\n",
    "import time\n",
    "import numpy as np\n",
    "import pandas as pd\n",
    "import matplotlib.pyplot as plt\n",
    "import sklearn.metrics as skl\n",
    "import csv\n",
    "from matplotlib.ticker import MultipleLocator\n",
    "from sklearn.pipeline import Pipeline\n",
    "from sklearn.datasets import fetch_mldata\n",
    "from sklearn.neighbors import KNeighborsClassifier\n",
    "from sklearn.metrics import confusion_matrix\n",
    "from sklearn.linear_model import LinearRegression\n",
    "from sklearn.linear_model import LogisticRegression\n",
    "from sklearn.naive_bayes import BernoulliNB\n",
    "from sklearn.naive_bayes import MultinomialNB\n",
    "from sklearn.naive_bayes import GaussianNB\n",
    "from sklearn.grid_search import GridSearchCV\n",
    "from sklearn.metrics import classification_report\n",
    "from sklearn import metrics, cross_validation\n"
   ]
  },
  {
   "cell_type": "code",
   "execution_count": 2,
   "metadata": {},
   "outputs": [],
   "source": [
    "df=pd.read_csv('train.csv', sep=',')\n",
    "df_test = pd.read_csv('test.csv')\n",
    "\n",
    "continuous = ['Elevation', 'Aspect', 'Slope',\n",
    "       'Horizontal_Distance_To_Hydrology', 'Vertical_Distance_To_Hydrology',\n",
    "       'Horizontal_Distance_To_Roadways', 'Hillshade_9am', 'Hillshade_Noon',\n",
    "       'Hillshade_3pm', 'Horizontal_Distance_To_Fire_Points'\n",
    "]\n",
    "discrete = ['Wilderness_Area1', 'Wilderness_Area2', 'Wilderness_Area3',\n",
    "       'Wilderness_Area4', 'Soil_Type1', 'Soil_Type2', 'Soil_Type3',\n",
    "       'Soil_Type4', 'Soil_Type5', 'Soil_Type6', 'Soil_Type7', 'Soil_Type8',\n",
    "       'Soil_Type9', 'Soil_Type10', 'Soil_Type11', 'Soil_Type12',\n",
    "       'Soil_Type13', 'Soil_Type14', 'Soil_Type15', 'Soil_Type16',\n",
    "       'Soil_Type17', 'Soil_Type18', 'Soil_Type19', 'Soil_Type20',\n",
    "       'Soil_Type21', 'Soil_Type22', 'Soil_Type23', 'Soil_Type24',\n",
    "       'Soil_Type25', 'Soil_Type26', 'Soil_Type27', 'Soil_Type28',\n",
    "       'Soil_Type29', 'Soil_Type30', 'Soil_Type31', 'Soil_Type32',\n",
    "       'Soil_Type33', 'Soil_Type34', 'Soil_Type35', 'Soil_Type36',\n",
    "       'Soil_Type37', 'Soil_Type38', 'Soil_Type39', 'Soil_Type40'\n",
    "]\n",
    "predictors = continuous + discrete\n",
    "\n",
    "target = ['Cover_Type']"
   ]
  },
  {
   "cell_type": "code",
   "execution_count": 3,
   "metadata": {},
   "outputs": [],
   "source": [
    "train_set, dev_set = cross_validation.train_test_split(df,test_size=.25, random_state = 42)\n",
    "X_train = train_set[predictors]\n",
    "X_dev = dev_set[predictors]\n",
    "y_train = train_set[target]\n",
    "y_dev = dev_set[target]"
   ]
  },
  {
   "cell_type": "code",
   "execution_count": 4,
   "metadata": {},
   "outputs": [
    {
     "name": "stdout",
     "output_type": "stream",
     "text": [
      "Best C: 0.1\n",
      "Accuracy: 0.667636684303351\n",
      "F1: 0.6573110112114874\n"
     ]
    }
   ],
   "source": [
    "#fit log model\n",
    "lr = LogisticRegression(penalty='l2')\n",
    "#c values to be tested\n",
    "c = {'C': [0.01, 0.1, 0.5, 1.0, 2.0]}\n",
    "\n",
    "gs = GridSearchCV(estimator=lr, param_grid=c)\n",
    "gs.fit(X_train, y_train.values.ravel())\n",
    "f1 = metrics.f1_score(y_dev, gs.predict(X_dev), average='weighted')\n",
    "\n",
    "print('Best C:', gs.best_estimator_.C)\n",
    "print('Accuracy:', gs.best_score_ )\n",
    "print('F1:', f1)"
   ]
  },
  {
   "cell_type": "code",
   "execution_count": 5,
   "metadata": {},
   "outputs": [
    {
     "name": "stdout",
     "output_type": "stream",
     "text": [
      "[[324  86   3   0  41   2  64]\n",
      " [133 272  18   1 104  20  12]\n",
      " [  0   3 251  90  28 163   1]\n",
      " [  0   0  38 493   0  21   0]\n",
      " [ 20  92  41   0 348  26   0]\n",
      " [  0  13  91  60  65 302   0]\n",
      " [ 47   3   2   0   6   0 496]]\n"
     ]
    }
   ],
   "source": [
    "lr = LogisticRegression(penalty='l2', C=0.1)\n",
    "lr.fit(X_train, y_train.values.ravel())\n",
    "\n",
    "cm = confusion_matrix(y_dev, lr.predict(X_dev))\n",
    "print (cm)"
   ]
  },
  {
   "cell_type": "markdown",
   "metadata": {},
   "source": [
    "# Base Log Model\n"
   ]
  },
  {
   "cell_type": "code",
   "execution_count": null,
   "metadata": {},
   "outputs": [],
   "source": [
    "lr = LogisticRegression(penalty='l2', C=0.1)\n",
    "lr.fit(df[predictors], df[target].values.ravel())\n",
    "\n",
    "pred = lr.predict(df_test[predictors])\n",
    "ID = df_test.Id\n",
    "\n",
    "data_out = []\n",
    "for i in range(len(ID)):\n",
    "    data_out.append({'ID':ID.iloc[i], 'Cover_Type':pred[i]})\n",
    "    \n",
    "import csv\n",
    "with open('base_log_model.csv', 'wt') as fout:\n",
    "    cout = csv.DictWriter(fout, ['ID','Cover_Type'])\n",
    "    cout.writeheader()\n",
    "    cout.writerows(data_out)"
   ]
  },
  {
   "cell_type": "markdown",
   "metadata": {},
   "source": [
    "# PCA"
   ]
  },
  {
   "cell_type": "code",
   "execution_count": 6,
   "metadata": {},
   "outputs": [
    {
     "name": "stdout",
     "output_type": "stream",
     "text": [
      "0.432291007430353\n",
      "47\n"
     ]
    },
    {
     "data": {
      "image/png": "[encoded data removed]",
      "text/plain": [
       "<matplotlib.figure.Figure at 0x115a7a7b8>"
      ]
     },
     "metadata": {},
     "output_type": "display_data"
    }
   ],
   "source": [
    "from sklearn.decomposition import PCA\n",
    "\n",
    "def best_components(n_features):\n",
    "    pca = PCA(n_components=n_features)\n",
    "    X_transformed = pca.fit_transform(X_train)\n",
    "    lr = LinearRegression()\n",
    "    lr.fit(X_transformed, y_train)\n",
    "    return lr.score(pca.transform(X_dev), y_dev)\n",
    "\n",
    "out = [best_components(i) for i in range(1, 54)]\n",
    "\n",
    "plt.plot(out)\n",
    "print(np.max(out))\n",
    "print(np.argmax(out))"
   ]
  },
  {
   "cell_type": "code",
   "execution_count": 13,
   "metadata": {},
   "outputs": [
    {
     "name": "stdout",
     "output_type": "stream",
     "text": [
      "Best C: 11.0\n",
      "Accuracy: 0.6729276895943562\n",
      "F1: 0.6705900706858783\n"
     ]
    }
   ],
   "source": [
    "pca = PCA(n_components= 47)\n",
    "X_transformed = pca.fit_transform(X_train)\n",
    "#fit log model\n",
    "lr = LogisticRegression(penalty='l2')\n",
    "#c values to be tested\n",
    "c = {'C': [10.0, 11.0, 12.0, 13.0, 14.0]}\n",
    "\n",
    "gs = GridSearchCV(estimator=lr, param_grid=c)\n",
    "gs.fit(X_transformed, y_train.values.ravel())\n",
    "f1 = metrics.f1_score(y_dev, gs.predict(pca.transform(X_dev)), average='weighted')\n",
    "\n",
    "print('Best C:', gs.best_estimator_.C)\n",
    "print('Accuracy:', gs.best_score_ )\n",
    "print('F1:', f1)\n",
    "#gave 11 but didnt like it C=2 works best"
   ]
  },
  {
   "cell_type": "code",
   "execution_count": 16,
   "metadata": {},
   "outputs": [
    {
     "name": "stdout",
     "output_type": "stream",
     "text": [
      "[[340  83   3   0  45   1  48]\n",
      " [126 278  23   0 107  17   9]\n",
      " [  0   4 288  76  16 152   0]\n",
      " [  0   0  36 496   0  20   0]\n",
      " [ 13  58  54   0 379  23   0]\n",
      " [  0  15  91  56  51 318   0]\n",
      " [ 57   3   2   0   2   0 490]]\n"
     ]
    }
   ],
   "source": [
    "lr = LogisticRegression(penalty='l2', C=2.0)\n",
    "lr.fit(X_transformed, df[target].values.ravel())\n",
    "\n",
    "cm = confusion_matrix(y_dev, lr.predict(pca.transform(X_dev)))\n",
    "print (cm)"
   ]
  },
  {
   "cell_type": "code",
   "execution_count": 14,
   "metadata": {},
   "outputs": [],
   "source": [
    "# df_test['Mean Hillshade'] = df_test[['Hillshade_9am', 'Hillshade_Noon', 'Hillshade_3pm']].mean(axis=1)\n",
    "# df_test['log_elavation'] = np.log(df_test['Elevation'])\n",
    "\n",
    "pca = PCA(n_components= 47)\n",
    "X_transformed = pca.fit_transform(df[predictors])\n",
    "lr = LogisticRegression(penalty='l2', C=2.0)\n",
    "lr.fit(X_transformed, df[target].values.ravel())\n",
    "\n",
    "pred = lr.predict(pca.transform(df_test[predictors]))\n",
    "ID = df_test.Id\n",
    "\n",
    "data_out = []\n",
    "\n",
    "for i in range(len(ID)):\n",
    "    data_out.append({'ID':ID.iloc[i], 'Cover_Type':pred[i]})\n",
    "    \n",
    "fout = open('pkb_pca_exp3_runthrough.csv', 'wt') # <- best so far! 56% C=2.0 w/ PCA = 47 \n",
    "cout = csv.DictWriter(fout, ['ID','Cover_Type'])\n",
    "cout.writeheader()\n",
    "cout.writerows(data_out)\n",
    "fout.close()"
   ]
  },
  {
   "cell_type": "code",
   "execution_count": null,
   "metadata": {},
   "outputs": [],
   "source": [
    "#Ignore\n",
    "#Feature engineering\n",
    "\n",
    "# df['Mean Hillshade'] = df[['Hillshade_9am', 'Hillshade_Noon', 'Hillshade_3pm']].mean(axis=1)\n",
    "# df['log_elavation'] = np.log(df['Elevation'])\n",
    "# df_test['Mean Hillshade'] = df_test[['Hillshade_9am', 'Hillshade_Noon', 'Hillshade_3pm']].mean(axis=1)\n",
    "# df_test['log_elavation'] = np.log(df_test['Elevation'])\n",
    "\n",
    "# continuous = ['Elevation', 'Aspect', 'Slope',\n",
    "#        'Horizontal_Distance_To_Hydrology', 'Vertical_Distance_To_Hydrology',\n",
    "#        'Horizontal_Distance_To_Roadways', 'Hillshade_9am', 'Hillshade_Noon',\n",
    "#        'Hillshade_3pm', 'Horizontal_Distance_To_Fire_Points', 'Mean Hillshade', 'log_elavation'\n",
    "# ]\n",
    "# discrete = ['Wilderness_Area1', 'Wilderness_Area2', 'Wilderness_Area3',\n",
    "#        'Wilderness_Area4', 'Soil_Type1', 'Soil_Type2', 'Soil_Type3',\n",
    "#        'Soil_Type4', 'Soil_Type5', 'Soil_Type6', 'Soil_Type7', 'Soil_Type8',\n",
    "#        'Soil_Type9', 'Soil_Type10', 'Soil_Type11', 'Soil_Type12',\n",
    "#        'Soil_Type13', 'Soil_Type14', 'Soil_Type15', 'Soil_Type16',\n",
    "#        'Soil_Type17', 'Soil_Type18', 'Soil_Type19', 'Soil_Type20',\n",
    "#        'Soil_Type21', 'Soil_Type22', 'Soil_Type23', 'Soil_Type24',\n",
    "#        'Soil_Type25', 'Soil_Type26', 'Soil_Type27', 'Soil_Type28',\n",
    "#        'Soil_Type29', 'Soil_Type30', 'Soil_Type31', 'Soil_Type32',\n",
    "#        'Soil_Type33', 'Soil_Type34', 'Soil_Type35', 'Soil_Type36',\n",
    "#        'Soil_Type37', 'Soil_Type38', 'Soil_Type39', 'Soil_Type40'\n",
    "# ]\n",
    "# predictors = continuous + discrete\n",
    "\n",
    "# target = ['Cover_Type']\n",
    "\n",
    "X_train = df[predictors]\n",
    "y_train = df[target]\n",
    "\n",
    "pca = PCA(n_components= 47)\n",
    "X_transformed = pca.fit_transform(X_train)\n",
    "lr = LogisticRegression()\n",
    "lr.fit(X_transformed, y_train.values.ravel())\n",
    "# lr.score(pca.transform(X_dev), y_dev)\n",
    "\n",
    "pred = lr.predict(pca.transform(df_test[predictors]))\n",
    "ID = df_test.Id\n",
    "\n",
    "data_out = []\n",
    "\n",
    "for i in range(len(ID)):\n",
    "    data_out.append({'ID':ID.iloc[i], 'Cover_Type':pred[i]})\n",
    "    \n",
    "fout = open('pkb_pca_log_exp4_wo_columns.csv', 'wt') \n",
    "cout = csv.DictWriter(fout, ['ID','Cover_Type'])\n",
    "cout.writeheader()\n",
    "cout.writerows(data_out)\n",
    "fout.close()"
   ]
  }
 ],
 "metadata": {
  "kernelspec": {
   "display_name": "Python 3",
   "language": "python",
   "name": "python3"
  },
  "language_info": {
   "codemirror_mode": {
    "name": "ipython",
    "version": 3
   },
   "file_extension": ".py",
   "mimetype": "text/x-python",
   "name": "python",
   "nbconvert_exporter": "python",
   "pygments_lexer": "ipython3",
   "version": "3.6.4"
  }
 },
 "nbformat": 4,
 "nbformat_minor": 2
}
